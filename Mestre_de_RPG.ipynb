{
  "nbformat": 4,
  "nbformat_minor": 0,
  "metadata": {
    "colab": {
      "provenance": [],
      "authorship_tag": "ABX9TyMxtYcYxTzsTjS6sQtBUPKD",
      "include_colab_link": true
    },
    "kernelspec": {
      "name": "python3",
      "display_name": "Python 3"
    },
    "language_info": {
      "name": "python"
    }
  },
  "cells": [
    {
      "cell_type": "markdown",
      "metadata": {
        "id": "view-in-github",
        "colab_type": "text"
      },
      "source": [
        "<a href=\"https://colab.research.google.com/github/Rargren/Projeto_Imersao_IA/blob/main/Mestre_de_RPG.ipynb\" target=\"_parent\"><img src=\"https://colab.research.google.com/assets/colab-badge.svg\" alt=\"Open In Colab\"/></a>"
      ]
    },
    {
      "cell_type": "markdown",
      "source": [
        "Começando um BOT para gereciar uma campanha simples de RPG de mesa."
      ],
      "metadata": {
        "id": "n3JCwZIDeV41"
      }
    },
    {
      "cell_type": "code",
      "execution_count": 1,
      "metadata": {
        "id": "GapQ6wF7dxLs"
      },
      "outputs": [],
      "source": [
        "#Instalando o SDK do Google\n",
        "!pip install -q -U google-generativeai"
      ]
    },
    {
      "cell_type": "code",
      "source": [
        "#Configurações iniciais\n",
        "import google.generativeai as genai\n",
        "from google.colab import userdata\n",
        "api_key = userdata.get(\"SECRET_KEY\")\n",
        "genai.configure(api_key=api_key)"
      ],
      "metadata": {
        "id": "xI8O4Ta4e2fF"
      },
      "execution_count": 2,
      "outputs": []
    },
    {
      "cell_type": "code",
      "source": [
        "#Listando os modelos disponíveis\n",
        "for m in genai.list_models():\n",
        "  if 'generateContent' in m.supported_generation_methods:\n",
        "    print(m.name)"
      ],
      "metadata": {
        "colab": {
          "base_uri": "https://localhost:8080/",
          "height": 139
        },
        "id": "H2ySUhX0e4Dj",
        "outputId": "f6c4ffdb-1d56-401d-c61a-452e75a7e6fc"
      },
      "execution_count": 3,
      "outputs": [
        {
          "output_type": "stream",
          "name": "stdout",
          "text": [
            "models/gemini-1.0-pro\n",
            "models/gemini-1.0-pro-001\n",
            "models/gemini-1.0-pro-latest\n",
            "models/gemini-1.0-pro-vision-latest\n",
            "models/gemini-1.5-pro-latest\n",
            "models/gemini-pro\n",
            "models/gemini-pro-vision\n"
          ]
        }
      ]
    },
    {
      "cell_type": "code",
      "source": [
        "generation_config = {\n",
        "  \"candidate_count\": 1,\n",
        "  \"temperature\": 0.5,\n",
        "}"
      ],
      "metadata": {
        "id": "LMbqjXLNe81r"
      },
      "execution_count": 4,
      "outputs": []
    },
    {
      "cell_type": "code",
      "source": [
        "safety_settings={\n",
        "    'HATE': 'BLOCK_NONE',\n",
        "    'HARASSMENT': 'BLOCK_NONE',\n",
        "    'SEXUAL' : 'BLOCK_NONE',\n",
        "    'DANGEROUS' : 'BLOCK_NONE'\n",
        "    }"
      ],
      "metadata": {
        "id": "S0BZ_uZwe_7b"
      },
      "execution_count": 5,
      "outputs": []
    },
    {
      "cell_type": "code",
      "source": [
        "model = genai.GenerativeModel(model_name='gemini-1.0-pro',\n",
        "                                  generation_config=generation_config,\n",
        "                                  safety_settings=safety_settings,)"
      ],
      "metadata": {
        "id": "gJvvJlnVfDSr"
      },
      "execution_count": 6,
      "outputs": []
    },
    {
      "cell_type": "code",
      "source": [
        "#Iniciando O ChatBot\n",
        "import random\n",
        "\n",
        "#Implementando o Jogador\n",
        "class Jogador:\n",
        "    def __init__(self, nome, classe, pontos_vida):\n",
        "        self.nome = nome\n",
        "        self.classe = classe\n",
        "        self.pontos_vida = pontos_vida\n",
        "\n",
        "    def atacar(self, alvo):\n",
        "        # Implementando o ataque do jogador\n",
        "        dano = random.randint(10, 20)\n",
        "        alvo.pontos_vida -= dano\n",
        "        return dano\n",
        "\n",
        "    def defender(self):\n",
        "        # Implementando a defesa do jogador\n",
        "        print(\"Você se defendeu dos ataques do monstro.\")\n",
        "        return 0\n",
        "\n",
        "#Implementando o Monstro\n",
        "class Monstro:\n",
        "    def __init__(self, nome, pontos_vida, poder_ataque):\n",
        "        self.nome = nome\n",
        "        self.pontos_vida = pontos_vida\n",
        "        self.poder_ataque = poder_ataque\n",
        "\n",
        "    def atacar(self, alvo):\n",
        "        # Implementando o ataque do monstro\n",
        "        dano = random.randint(5, 15)\n",
        "        alvo.pontos_vida -= dano\n",
        "        return dano\n",
        "\n",
        "    def defender(self):\n",
        "        # Implementando a defesa do monstro\n",
        "        print(\"O monstro se defendeu.\")\n",
        "        return 0\n",
        "\n",
        "def historia():\n",
        "    # Geração aleatória de uma história\n",
        "    historias = [\n",
        "        \"Em um mundo distante, onde a magia reina suprema, uma ameaça das trevas emerge das sombras...\",\n",
        "        \"Nas profundezas de uma antiga masmorra, rumores de um tesouro perdido atraem aventureiros destemidos...\",\n",
        "        \"Em uma terra assolada pela guerra, um herói solitário surge para desafiar as forças do mal...\"\n",
        "    ]\n",
        "    return random.choice(historias)\n",
        "\n",
        "#Obtendo as informações do Jogador\n",
        "#A vida do Jogador é beseada na classe escolhida\n",
        "def obter_informacoes_jogador():\n",
        "    nome_jogador = input(\"Por favor, digite o nome do seu personagem: \")\n",
        "    classe_jogador = input(\"Escolha a classe do seu personagem (guerreiro, mago, arqueiro): \").lower()\n",
        "\n",
        "    if classe_jogador == \"guerreiro\":\n",
        "        pontos_vida_jogador = 150\n",
        "    elif classe_jogador == \"mago\":\n",
        "        pontos_vida_jogador = 80\n",
        "    elif classe_jogador == \"arqueiro\":\n",
        "        pontos_vida_jogador = 110\n",
        "    else:\n",
        "        print(\"Classe inválida. Será atribuído 100 pontos de vida por padrão.\")\n",
        "        pontos_vida_jogador = 100\n",
        "\n",
        "    return Jogador(nome_jogador, classe_jogador, pontos_vida_jogador)\n",
        "\n",
        "def imprimir_status(jogador, monstro):\n",
        "    print(f\"Vida do jogador: {jogador.pontos_vida}\")\n",
        "    print(f\"Vida do monstro: {monstro.pontos_vida}\\n\")\n",
        "\n",
        "#Implementando a Batalha\n",
        "def batalha(jogador, monstro):\n",
        "    print(\"Uma batalha está prestes a começar!\")\n",
        "    while jogador.pontos_vida > 0 and monstro.pontos_vida > 0:\n",
        "        # Turno do jogador\n",
        "        print(\"\\nTurno de\", jogador.nome)\n",
        "        escolha = input(\"O que você vai fazer? (atk = a/def = d): \").lower()\n",
        "        if escolha == \"a\": # atacar = a\n",
        "            dano = jogador.atacar(monstro)\n",
        "            print(\"Você atacou o\", monstro.nome, \"causando\", dano, \"de dano!\")\n",
        "        elif escolha == \"d\": # defender = d\n",
        "            dano = jogador.defender()\n",
        "        else:\n",
        "            print(\"Escolha inválida. Tente novamente.\")\n",
        "            continue\n",
        "\n",
        "        imprimir_status(jogador, monstro)\n",
        "        if monstro.pontos_vida <= 0:\n",
        "            print(\"Você derrotou o\", monstro.nome, \"! Parabéns!\")\n",
        "            break\n",
        "\n",
        "        # Turno do monstro\n",
        "        print(\"\\nTurno do\", monstro.nome)\n",
        "        dano = monstro.atacar(jogador)\n",
        "        print(\"O\", monstro.nome, \"atacou você, causando\", dano, \"de dano!\")\n",
        "\n",
        "        imprimir_status(jogador, monstro)\n",
        "        if jogador.pontos_vida <= 0:\n",
        "            print(\"Você foi derrotado pelo\", monstro.nome, \". Game over!\")\n",
        "            break\n",
        "\n",
        "    print(\"Fim da batalha.\")\n",
        "\n",
        "def main():\n",
        "    print(\"Bem-vindo ao mundo de aventuras!\")\n",
        "    jogador = obter_informacoes_jogador()\n",
        "    print(historia())\n",
        "\n",
        "    while True:\n",
        "        # Geração aleatória de um monstro\n",
        "        nome_monstro = \"Behemoth das Trevas\"\n",
        "        pontos_vida_monstro = random.randint(50, 100)\n",
        "        poder_ataque_monstro = random.randint(10, 20)\n",
        "\n",
        "        monstro = Monstro(nome_monstro, pontos_vida_monstro, poder_ataque_monstro)\n",
        "\n",
        "        print(\"Um\", monstro.nome, \"apareceu diante de você!\")\n",
        "\n",
        "        # Início da batalha\n",
        "        batalha(jogador, monstro)\n",
        "\n",
        "        if jogador.pontos_vida > 0:\n",
        "            continuar = input(\"Deseja continuar jogando? (s/n): \").lower()\n",
        "            if continuar != \"s\":\n",
        "                print(\"Fim do jogo.\")\n",
        "                break\n",
        "        else:\n",
        "            print(\"Fim do jogo, você foi derrotado.\")\n",
        "            break\n",
        "\n",
        "if __name__ == \"__main__\":\n",
        "    main()\n"
      ],
      "metadata": {
        "colab": {
          "base_uri": "https://localhost:8080/"
        },
        "id": "9tbovvpYgm69",
        "outputId": "2c6a88ac-d8ed-4e91-bcf6-7f3732498f74"
      },
      "execution_count": 12,
      "outputs": [
        {
          "output_type": "stream",
          "name": "stdout",
          "text": [
            "Bem-vindo ao mundo de aventuras!\n",
            "Por favor, digite o nome do seu personagem: rargren\n",
            "Escolha a classe do seu personagem (guerreiro, mago, arqueiro): mago\n",
            "Em uma terra assolada pela guerra, um herói solitário surge para desafiar as forças do mal...\n",
            "Um Behemoth das Trevas apareceu diante de você!\n",
            "Uma batalha está prestes a começar!\n",
            "\n",
            "Turno de rargren\n",
            "O que você vai fazer? (atacar/defender): a\n",
            "Você atacou o Behemoth das Trevas causando 18 de dano!\n",
            "Vida do jogador: 80\n",
            "Vida do monstro: 70\n",
            "\n",
            "\n",
            "Turno do Behemoth das Trevas\n",
            "O Behemoth das Trevas atacou você, causando 7 de dano!\n",
            "Vida do jogador: 73\n",
            "Vida do monstro: 70\n",
            "\n",
            "\n",
            "Turno de rargren\n",
            "O que você vai fazer? (atacar/defender): a\n",
            "Você atacou o Behemoth das Trevas causando 19 de dano!\n",
            "Vida do jogador: 73\n",
            "Vida do monstro: 51\n",
            "\n",
            "\n",
            "Turno do Behemoth das Trevas\n",
            "O Behemoth das Trevas atacou você, causando 14 de dano!\n",
            "Vida do jogador: 59\n",
            "Vida do monstro: 51\n",
            "\n",
            "\n",
            "Turno de rargren\n",
            "O que você vai fazer? (atacar/defender): a\n",
            "Você atacou o Behemoth das Trevas causando 19 de dano!\n",
            "Vida do jogador: 59\n",
            "Vida do monstro: 32\n",
            "\n",
            "\n",
            "Turno do Behemoth das Trevas\n",
            "O Behemoth das Trevas atacou você, causando 8 de dano!\n",
            "Vida do jogador: 51\n",
            "Vida do monstro: 32\n",
            "\n",
            "\n",
            "Turno de rargren\n",
            "O que você vai fazer? (atacar/defender): a\n",
            "Você atacou o Behemoth das Trevas causando 11 de dano!\n",
            "Vida do jogador: 51\n",
            "Vida do monstro: 21\n",
            "\n",
            "\n",
            "Turno do Behemoth das Trevas\n",
            "O Behemoth das Trevas atacou você, causando 12 de dano!\n",
            "Vida do jogador: 39\n",
            "Vida do monstro: 21\n",
            "\n",
            "\n",
            "Turno de rargren\n",
            "O que você vai fazer? (atacar/defender): a\n",
            "Você atacou o Behemoth das Trevas causando 13 de dano!\n",
            "Vida do jogador: 39\n",
            "Vida do monstro: 8\n",
            "\n",
            "\n",
            "Turno do Behemoth das Trevas\n",
            "O Behemoth das Trevas atacou você, causando 14 de dano!\n",
            "Vida do jogador: 25\n",
            "Vida do monstro: 8\n",
            "\n",
            "\n",
            "Turno de rargren\n",
            "O que você vai fazer? (atacar/defender): a\n",
            "Você atacou o Behemoth das Trevas causando 15 de dano!\n",
            "Vida do jogador: 25\n",
            "Vida do monstro: -7\n",
            "\n",
            "Você derrotou o Behemoth das Trevas ! Parabéns!\n",
            "Fim da batalha.\n",
            "Deseja continuar jogando? (s/n): n\n",
            "Fim do jogo.\n"
          ]
        }
      ]
    }
  ]
}